{
 "cells": [
  {
   "cell_type": "code",
   "execution_count": null,
   "metadata": {
    "collapsed": false
   },
   "outputs": [],
   "source": [
    "import sys\n",
    "import csv\n",
    "import os\n",
    "import datetime\n",
    "import math\n",
    "import numpy as np\n",
    "import pandas as pd\n",
    "import matplotlib.pyplot as plt\n",
    "from datetime import datetime\n",
    "import sexmachine.detector as gender\n",
    "from sklearn.preprocessing import Imputer\n",
    "from sklearn import cross_validation\n",
    "from sklearn import metrics\n",
    "from pybrain.structure import SigmoidLayer\n",
    "from pybrain.datasets import ClassificationDataSet\n",
    "from pybrain.utilities import percentError\n",
    "from pybrain.tools.shortcuts import buildNetwork\n",
    "from pybrain.supervised.trainers import BackpropTrainer\n",
    "from pybrain.structure.modules import SoftmaxLayer\n",
    "from pybrain.tools.xml.networkwriter import NetworkWriter\n",
    "from pybrain.tools.xml.networkreader import NetworkReader\n",
    "from sklearn import preprocessing\n",
    "from sklearn.linear_model import LinearRegression\n",
    "from  sklearn.ensemble import RandomForestClassifier\n",
    "from sklearn.decomposition import PCA\n",
    "from sklearn.cross_validation import StratifiedKFold, train_test_split\n",
    "from sklearn.grid_search import GridSearchCV\n",
    "from sklearn.metrics import accuracy_score\n",
    "from sklearn.learning_curve import learning_curve\n",
    "from sklearn.metrics import roc_curve, auc ,roc_auc_score\n",
    "from sklearn.metrics import confusion_matrix\n",
    "from sklearn.metrics import classification_report\n",
    "%matplotlib inline \n"
   ]
  },
  {
   "cell_type": "code",
   "execution_count": 12,
   "metadata": {
    "collapsed": true
   },
   "outputs": [],
   "source": [
    "def predict_gender(name):\n",
    "    sex_predictor = gender.Detector(unknown_value=u\"unknown\",case_sensitive=False)\n",
    "    first_name= name.str.split(' ').str.get(0)\n",
    "    sex= first_name.apply(sex_predictor.get_gender)\n",
    "    sex_dict={'female': -2, 'mostly_female': -1,'unknown':0,'mostly_male':1, 'male': 2}\n",
    "    sex_code = sex.map(sex_dict).astype(int)\n",
    "    return sex_code"
   ]
  },
  {
   "cell_type": "code",
   "execution_count": null,
   "metadata": {
    "collapsed": false
   },
   "outputs": [],
   "source": [
    "genuine_user = graphlab.SFrame('Facebook DataSet/users.csv') ##Testing Data \n",
    "fake_users =graphlab.SFrame('Facebook DataSet/fusers.csv') ## training data"
   ]
  },
  {
   "cell_type": "code",
   "execution_count": null,
   "metadata": {
    "collapsed": false,
    "scrolled": false
   },
   "outputs": [],
   "source": [
    "##genuine_user ## Printing Data\n",
    "fake_users.show()"
   ]
  },
  {
   "cell_type": "code",
   "execution_count": null,
   "metadata": {
    "collapsed": false
   },
   "outputs": [],
   "source": [
    "x=fake_users.column_types() ##testing columns \n",
    "y = fake_users.column_types()\n",
    "print x \n",
    "print y "
   ]
  },
  {
   "cell_type": "code",
   "execution_count": null,
   "metadata": {
    "collapsed": true
   },
   "outputs": [],
   "source": [
    "def read_datasets():\n",
    "   \n",
    "    genuine_users = graphlab.SFrame.read_csv('Facebook DataSet/users.csv')\n",
    "    fake_users =graphlab.SFrame.read_csv('Facebook DataSet/fusers.csv')\n",
    "    x=fake_users.column_types()\n",
    "    y = fake_users.column_types()\n",
    "    ##print x \n",
    "    ##print y \n",
    "    x=graphlab.SFrame.append(genuine_user,fake_users)\n",
    "    y=len(fake_users)*[0] + len(genuine_users)*[1]\n",
    "    ##print x\n",
    "       ## print y\n",
    "    return x"
   ]
  },
  {
   "cell_type": "code",
   "execution_count": 7,
   "metadata": {
    "collapsed": true
   },
   "outputs": [],
   "source": [
    "def read_datasets_pandas():\n",
    "    genuine_users = pd.read_csv('Facebook DataSet/users.csv') \n",
    "    fake_users = pd.read_csv('Facebook DataSet/fusers.csv') \n",
    "    x=pd.concat([genuine_users,fake_users])   \n",
    "    y=len(fake_users)*[0] + len(genuine_users)*[1]\n",
    "    return x,y"
   ]
  },
  {
   "cell_type": "code",
   "execution_count": 13,
   "metadata": {
    "collapsed": false
   },
   "outputs": [],
   "source": [
    "def predict_sex(name):\n",
    "    sex_predictor = SM.Detector(unknown_value=u\"unknown\",case_sensitive=False)\n",
    "    first_name = graphlab.SFrame()\n",
    "    first_name= name.split(' ')\n",
    "    sex=sex_predictor.get_gender(first_name[0])\n",
    "    ##first_name.apply(lambda::sex_predictor.get_gender)\n",
    "    sex_dict={'female': -2, 'mostly_female': -1,'unknown':0,'mostly_male':1, 'male': 2}\n",
    "    sex_code =sex_dict.get(sex)\n",
    "   \n",
    "    return sex_code"
   ]
  },
  {
   "cell_type": "code",
   "execution_count": 23,
   "metadata": {
    "collapsed": true
   },
   "outputs": [],
   "source": [
    "def feature_selection(x):\n",
    "    lang_list = list(enumerate(np.unique(x['lang'])))   \n",
    "    lang_dict = { name : i for i, name in lang_list } \n",
    "    print lang_list     #Test1\n",
    "    print lang_dict     #Test2\n",
    "    x.loc[:,'lang_code'] = x['lang'].map( lambda x: lang_dict[x]).astype(int)    \n",
    "    x.loc[:,'sex_code']=predict_gender(x['name'])\n",
    "    feature_columns_to_use = ['statuses_count','followers_count','friends_count','favourites_count','listed_count','sex_code','lang_code']\n",
    "    x=x.loc[:,feature_columns_to_use]\n",
    "    return x"
   ]
  },
  {
   "cell_type": "code",
   "execution_count": null,
   "metadata": {
    "collapsed": false,
    "scrolled": true
   },
   "outputs": [],
   "source": [
    "predict_sex('Emma Wattson') ## Testing the gender detector\n"
   ]
  },
  {
   "cell_type": "code",
   "execution_count": null,
   "metadata": {
    "collapsed": false
   },
   "outputs": [],
   "source": [
    "def feature_extraction(x):                             ##TEST FUNCTION NOT WORKING \n",
    "    lang_list = list(enumerate(np.unique(x['lang'])))  \n",
    "    lang_dict = { name : i for i, name in lang_list } \n",
    "    #x.add_column['lang_code']\n",
    "    for i in x['lang']:\n",
    "        x['lang_code'] = lang_dict[i]\n",
    "    \n",
    "    #x.loc[:,'lang_code'] = x['lang'].map( lambda x: lang_dict[x]).astype(int) \n",
    "    for i in x['name']:\n",
    "        x['sex_code']=predict_sex(i)\n",
    "        #print x['sex_code']\n",
    "    #feature_columns_to_use = ['statuses_count','followers_count','friends_count','favourites_count','listed_count','sex_code','lang_code']\n",
    "    #x=x[:,feature_columns_to_use]\n",
    "    return x\n"
   ]
  },
  {
   "cell_type": "code",
   "execution_count": 59,
   "metadata": {
    "collapsed": false
   },
   "outputs": [],
   "source": [
    "def train(X,y):      ##Building classifier using FFNN\n",
    "    ds = ClassificationDataSet( len(X.columns), 1,nb_classes=2)\n",
    "    for k in range(len(X)): \n",
    "    \tds.addSample(X.iloc[k],np.array(y[k]))\n",
    "    tstdata, trndata = ds.splitWithProportion( 0.20 )\n",
    "    trndata._convertToOneOfMany( )\n",
    "    tstdata._convertToOneOfMany( ) \n",
    "    print \"Number of testing patterns: \", len(tstdata)\n",
    "    print \"Number of training patterns: \", len(trndata)\n",
    "    print \"Input and output dimensions: \", trndata.indim, trndata.outdim\n",
    "    print \"First sample (input, target, class):\"\n",
    "    print trndata['input'][0], trndata['target'][0], trndata['class'][0]\n",
    "    input_size=len(X.columns)\n",
    "    target_size=1\n",
    "    hidden_size = 5   \n",
    "    fnn=None\n",
    "    \n",
    "    fnn = buildNetwork( trndata.indim, hidden_size , trndata.outdim, outclass=SoftmaxLayer )\n",
    "    print fnn['in']\n",
    "    trainer = BackpropTrainer( fnn, dataset=trndata,momentum=0.05, learningrate=0.1 , verbose=False, weightdecay=0.01)\n",
    "\n",
    "\n",
    "    trainer.trainUntilConvergence(verbose = False, validationProportion = 0.15, maxEpochs = 100, continueEpochs = 10 )\n",
    "    NetworkWriter.writeToFile(fnn, 'oliv.xml')\n",
    "    predictions=trainer.testOnClassData (dataset=tstdata)\n",
    "    return tstdata['class'],predictions "
   ]
  },
  {
   "cell_type": "code",
   "execution_count": null,
   "metadata": {
    "collapsed": false
   },
   "outputs": [],
   "source": [
    "##feature_extraction(y) ##unusable code . \n",
    "##y"
   ]
  },
  {
   "cell_type": "code",
   "execution_count": 61,
   "metadata": {
    "collapsed": false
   },
   "outputs": [
    {
     "data": {
      "text/html": [
       "<div>\n",
       "<table border=\"1\" class=\"dataframe\">\n",
       "  <thead>\n",
       "    <tr style=\"text-align: right;\">\n",
       "      <th></th>\n",
       "      <th>id</th>\n",
       "      <th>statuses_count</th>\n",
       "      <th>followers_count</th>\n",
       "      <th>friends_count</th>\n",
       "      <th>favourites_count</th>\n",
       "      <th>listed_count</th>\n",
       "      <th>default_profile</th>\n",
       "      <th>geo_enabled</th>\n",
       "      <th>profile_use_background_image</th>\n",
       "      <th>profile_background_tile</th>\n",
       "      <th>utc_offset</th>\n",
       "      <th>protected</th>\n",
       "      <th>verified</th>\n",
       "    </tr>\n",
       "  </thead>\n",
       "  <tbody>\n",
       "    <tr>\n",
       "      <th>count</th>\n",
       "      <td>2.818000e+03</td>\n",
       "      <td>2818.000000</td>\n",
       "      <td>2818.000000</td>\n",
       "      <td>2818.000000</td>\n",
       "      <td>2818.000000</td>\n",
       "      <td>2818.000000</td>\n",
       "      <td>1728.0</td>\n",
       "      <td>721.0</td>\n",
       "      <td>2760.0</td>\n",
       "      <td>489.0</td>\n",
       "      <td>1069.000000</td>\n",
       "      <td>0.0</td>\n",
       "      <td>0.0</td>\n",
       "    </tr>\n",
       "    <tr>\n",
       "      <th>mean</th>\n",
       "      <td>5.374889e+08</td>\n",
       "      <td>1672.198368</td>\n",
       "      <td>371.105039</td>\n",
       "      <td>395.363023</td>\n",
       "      <td>234.541164</td>\n",
       "      <td>2.818666</td>\n",
       "      <td>1.0</td>\n",
       "      <td>1.0</td>\n",
       "      <td>1.0</td>\n",
       "      <td>1.0</td>\n",
       "      <td>1478.391020</td>\n",
       "      <td>NaN</td>\n",
       "      <td>NaN</td>\n",
       "    </tr>\n",
       "    <tr>\n",
       "      <th>std</th>\n",
       "      <td>2.977005e+08</td>\n",
       "      <td>4884.669157</td>\n",
       "      <td>8022.631339</td>\n",
       "      <td>465.694322</td>\n",
       "      <td>1445.847248</td>\n",
       "      <td>23.480430</td>\n",
       "      <td>0.0</td>\n",
       "      <td>0.0</td>\n",
       "      <td>0.0</td>\n",
       "      <td>0.0</td>\n",
       "      <td>8108.211889</td>\n",
       "      <td>NaN</td>\n",
       "      <td>NaN</td>\n",
       "    </tr>\n",
       "    <tr>\n",
       "      <th>min</th>\n",
       "      <td>3.610511e+06</td>\n",
       "      <td>0.000000</td>\n",
       "      <td>0.000000</td>\n",
       "      <td>0.000000</td>\n",
       "      <td>0.000000</td>\n",
       "      <td>0.000000</td>\n",
       "      <td>1.0</td>\n",
       "      <td>1.0</td>\n",
       "      <td>1.0</td>\n",
       "      <td>1.0</td>\n",
       "      <td>-39600.000000</td>\n",
       "      <td>NaN</td>\n",
       "      <td>NaN</td>\n",
       "    </tr>\n",
       "    <tr>\n",
       "      <th>25%</th>\n",
       "      <td>3.620867e+08</td>\n",
       "      <td>35.000000</td>\n",
       "      <td>17.000000</td>\n",
       "      <td>168.000000</td>\n",
       "      <td>0.000000</td>\n",
       "      <td>0.000000</td>\n",
       "      <td>1.0</td>\n",
       "      <td>1.0</td>\n",
       "      <td>1.0</td>\n",
       "      <td>1.0</td>\n",
       "      <td>3600.000000</td>\n",
       "      <td>NaN</td>\n",
       "      <td>NaN</td>\n",
       "    </tr>\n",
       "    <tr>\n",
       "      <th>50%</th>\n",
       "      <td>6.162253e+08</td>\n",
       "      <td>77.000000</td>\n",
       "      <td>26.000000</td>\n",
       "      <td>306.000000</td>\n",
       "      <td>0.000000</td>\n",
       "      <td>0.000000</td>\n",
       "      <td>1.0</td>\n",
       "      <td>1.0</td>\n",
       "      <td>1.0</td>\n",
       "      <td>1.0</td>\n",
       "      <td>3600.000000</td>\n",
       "      <td>NaN</td>\n",
       "      <td>NaN</td>\n",
       "    </tr>\n",
       "    <tr>\n",
       "      <th>75%</th>\n",
       "      <td>6.177673e+08</td>\n",
       "      <td>1087.750000</td>\n",
       "      <td>111.000000</td>\n",
       "      <td>519.000000</td>\n",
       "      <td>37.000000</td>\n",
       "      <td>1.000000</td>\n",
       "      <td>1.0</td>\n",
       "      <td>1.0</td>\n",
       "      <td>1.0</td>\n",
       "      <td>1.0</td>\n",
       "      <td>3600.000000</td>\n",
       "      <td>NaN</td>\n",
       "      <td>NaN</td>\n",
       "    </tr>\n",
       "    <tr>\n",
       "      <th>max</th>\n",
       "      <td>1.391998e+09</td>\n",
       "      <td>79876.000000</td>\n",
       "      <td>408372.000000</td>\n",
       "      <td>12773.000000</td>\n",
       "      <td>44349.000000</td>\n",
       "      <td>744.000000</td>\n",
       "      <td>1.0</td>\n",
       "      <td>1.0</td>\n",
       "      <td>1.0</td>\n",
       "      <td>1.0</td>\n",
       "      <td>36000.000000</td>\n",
       "      <td>NaN</td>\n",
       "      <td>NaN</td>\n",
       "    </tr>\n",
       "  </tbody>\n",
       "</table>\n",
       "</div>"
      ],
      "text/plain": [
       "                 id  statuses_count  followers_count  friends_count  \\\n",
       "count  2.818000e+03     2818.000000      2818.000000    2818.000000   \n",
       "mean   5.374889e+08     1672.198368       371.105039     395.363023   \n",
       "std    2.977005e+08     4884.669157      8022.631339     465.694322   \n",
       "min    3.610511e+06        0.000000         0.000000       0.000000   \n",
       "25%    3.620867e+08       35.000000        17.000000     168.000000   \n",
       "50%    6.162253e+08       77.000000        26.000000     306.000000   \n",
       "75%    6.177673e+08     1087.750000       111.000000     519.000000   \n",
       "max    1.391998e+09    79876.000000    408372.000000   12773.000000   \n",
       "\n",
       "       favourites_count  listed_count  default_profile  geo_enabled  \\\n",
       "count       2818.000000   2818.000000           1728.0        721.0   \n",
       "mean         234.541164      2.818666              1.0          1.0   \n",
       "std         1445.847248     23.480430              0.0          0.0   \n",
       "min            0.000000      0.000000              1.0          1.0   \n",
       "25%            0.000000      0.000000              1.0          1.0   \n",
       "50%            0.000000      0.000000              1.0          1.0   \n",
       "75%           37.000000      1.000000              1.0          1.0   \n",
       "max        44349.000000    744.000000              1.0          1.0   \n",
       "\n",
       "       profile_use_background_image  profile_background_tile    utc_offset  \\\n",
       "count                        2760.0                    489.0   1069.000000   \n",
       "mean                            1.0                      1.0   1478.391020   \n",
       "std                             0.0                      0.0   8108.211889   \n",
       "min                             1.0                      1.0 -39600.000000   \n",
       "25%                             1.0                      1.0   3600.000000   \n",
       "50%                             1.0                      1.0   3600.000000   \n",
       "75%                             1.0                      1.0   3600.000000   \n",
       "max                             1.0                      1.0  36000.000000   \n",
       "\n",
       "       protected  verified  \n",
       "count        0.0       0.0  \n",
       "mean         NaN       NaN  \n",
       "std          NaN       NaN  \n",
       "min          NaN       NaN  \n",
       "25%          NaN       NaN  \n",
       "50%          NaN       NaN  \n",
       "75%          NaN       NaN  \n",
       "max          NaN       NaN  "
      ]
     },
     "execution_count": 61,
     "metadata": {},
     "output_type": "execute_result"
    }
   ],
   "source": [
    "x,y=read_datasets_pandas()\n",
    "x.describe()\n",
    "\n",
    "\n",
    "#len(x)\n"
   ]
  },
  {
   "cell_type": "code",
   "execution_count": 62,
   "metadata": {
    "collapsed": false
   },
   "outputs": [
    {
     "name": "stdout",
     "output_type": "stream",
     "text": [
      "[(0, 'de'), (1, 'en'), (2, 'es'), (3, 'fr'), (4, 'gl'), (5, 'it'), (6, 'nl'), (7, 'tr')]\n",
      "{'fr': 3, 'en': 1, 'nl': 6, 'de': 0, 'tr': 7, 'it': 5, 'gl': 4, 'es': 2}\n"
     ]
    },
    {
     "data": {
      "text/plain": [
       "Index([u'statuses_count', u'followers_count', u'friends_count',\n",
       "       u'favourites_count', u'listed_count', u'sex_code', u'lang_code'],\n",
       "      dtype='object')"
      ]
     },
     "execution_count": 62,
     "metadata": {},
     "output_type": "execute_result"
    }
   ],
   "source": [
    "x = feature_selection(x)\n",
    "x.columns\n"
   ]
  },
  {
   "cell_type": "code",
   "execution_count": 60,
   "metadata": {
    "collapsed": false
   },
   "outputs": [
    {
     "name": "stdout",
     "output_type": "stream",
     "text": [
      "Number of testing patterns:  563\n",
      "Number of training patterns:  2255\n",
      "Input and output dimensions:  7 2\n",
      "First sample (input, target, class):\n",
      "[  2.03700000e+04   5.47000000e+03   2.38500000e+03   1.45000000e+02\n",
      "   5.20000000e+01   2.00000000e+00   5.00000000e+00] [1 0] [ 0.]\n",
      "<LinearLayer 'in'>\n"
     ]
    }
   ],
   "source": [
    "y_test,y_pred =train(x,y)\n",
    "#print y_test\n",
    "#print y_pred"
   ]
  },
  {
   "cell_type": "code",
   "execution_count": null,
   "metadata": {
    "collapsed": true
   },
   "outputs": [],
   "source": []
  }
 ],
 "metadata": {
  "kernelspec": {
   "display_name": "Python 2",
   "language": "python",
   "name": "python2"
  },
  "language_info": {
   "codemirror_mode": {
    "name": "ipython",
    "version": 2
   },
   "file_extension": ".py",
   "mimetype": "text/x-python",
   "name": "python",
   "nbconvert_exporter": "python",
   "pygments_lexer": "ipython2",
   "version": "2.7.11"
  }
 },
 "nbformat": 4,
 "nbformat_minor": 0
}
